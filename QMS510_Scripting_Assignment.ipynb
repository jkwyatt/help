{
  "nbformat": 4,
  "nbformat_minor": 0,
  "metadata": {
    "colab": {
      "name": "QMS510 Scripting Assignment",
      "provenance": [],
      "collapsed_sections": [],
      "authorship_tag": "ABX9TyM84rdwtU2Cv9Jhj328fGuA",
      "include_colab_link": true
    },
    "kernelspec": {
      "name": "python3",
      "display_name": "Python 3"
    },
    "language_info": {
      "name": "python"
    }
  },
  "cells": [
    {
      "cell_type": "markdown",
      "metadata": {
        "id": "view-in-github",
        "colab_type": "text"
      },
      "source": [
        "<a href=\"https://colab.research.google.com/github/jkwyatt/help/blob/main/QMS510_Scripting_Assignment.ipynb\" target=\"_parent\"><img src=\"https://colab.research.google.com/assets/colab-badge.svg\" alt=\"Open In Colab\"/></a>"
      ]
    },
    {
      "cell_type": "markdown",
      "source": [
        "#QMS510 Scripting Assignment 2022"
      ],
      "metadata": {
        "id": "Bx8rwH82z1Ak"
      }
    },
    {
      "cell_type": "code",
      "execution_count": null,
      "metadata": {
        "id": "8QXsr_YlzKDj"
      },
      "outputs": [],
      "source": [
        "#I will create my assignment on this google collaboration doc to see how it works\n"
      ]
    },
    {
      "cell_type": "markdown",
      "source": [
        "### Problem 1: Trees"
      ],
      "metadata": {
        "id": "zbTQN3zrzzKm"
      }
    },
    {
      "cell_type": "code",
      "source": [
        "#Create dataset \n",
        "tassie_giant_trees= {\"Medusa\": 91.9, \"Centurion\": 99.8, \"Firebird Wonder\": 95.9, \"The Big Tree\": 104.2, \"The Smaller Big Tree\": 102.1}\n",
        "\n",
        "#create a loop to find trees > 95m\n",
        "for name, height in tassie_giant_trees.items(): \n",
        "    if height > 95.0:\n",
        "        print(name, ' is taller than 95m')\n",
        "  "
      ],
      "metadata": {
        "colab": {
          "base_uri": "https://localhost:8080/"
        },
        "id": "zXJZaYMhzLzP",
        "outputId": "e0f04c63-af4e-4701-ca85-407ac25097d6"
      },
      "execution_count": 8,
      "outputs": [
        {
          "output_type": "stream",
          "name": "stdout",
          "text": [
            "Centurion  is taller than 95m\n",
            "Firebird Wonder  is taller than 95m\n",
            "The Big Tree  is taller than 95m\n",
            "The Smaller Big Tree  is taller than 95m\n"
          ]
        }
      ]
    },
    {
      "cell_type": "code",
      "source": [
        "#Create seperate arrays for name, height\n",
        "name, height = ['Medusa', 'Centurion', 'Firebird Wonder', 'The Big Tree', \"The Smaller Big Tree\"], [91.9, 99.8, 95.9, 104.2, 102.1]\n",
        "\n",
        "#get the maximum value of height\n",
        "max_value=max(height)\n",
        "\n",
        "#Get the positional index of this maximum \n",
        "max_index=height.index(max_value)\n",
        "\n",
        "#Get the name of the tree associated with this maximum \n",
        "name[max_index]\n",
        "\n",
        "#print \n",
        "print(name[max_index], 'is the tallest tree, with a height of', height[max_index], 'm.')\n",
        "\n",
        "#I'm sure that there is probably a way to do this from inside the array created earlier... but this works"
      ],
      "metadata": {
        "colab": {
          "base_uri": "https://localhost:8080/"
        },
        "id": "lKIOlk1C1Mv6",
        "outputId": "f8ead9bb-ee93-4ce9-a7f5-8807ddb963b8"
      },
      "execution_count": 10,
      "outputs": [
        {
          "output_type": "stream",
          "name": "stdout",
          "text": [
            "The Big Tree is the tallest tree, with a height of 104.2 m\n"
          ]
        }
      ]
    },
    {
      "cell_type": "markdown",
      "source": [
        "###Problem 2: Passwords"
      ],
      "metadata": {
        "id": "kuOaRTIe0YEZ"
      }
    },
    {
      "cell_type": "code",
      "source": [
        "#load data: \n",
        "password_candidates = [\"takayna-tarkine\", \"iLoveSpinach\",\"__-\",\"I-wish-i-was-a-cuttlefish\",\"b1gd0gsgowoof\",\"nine11wasanInside-\"]\n",
        "\n",
        "# create a definition \n",
        "\n",
        "def even_odd(string):\n",
        "    if len(string)%2 == 0:\n",
        "        return \"even\"\n",
        "    else: \n",
        "        return \"odd\"\n",
        "\n",
        "#create a for loop and use defintion \n",
        "\n",
        "for name in password_candidates:\n",
        "    if even_odd(name) == 'odd' and \"-\" in name:\n",
        "        print(name, \"is a valid password! Congrats\")"
      ],
      "metadata": {
        "colab": {
          "base_uri": "https://localhost:8080/"
        },
        "id": "NRQszmnb0VcK",
        "outputId": "6b9920cb-4042-47d1-f1a1-ab792d47c574"
      },
      "execution_count": 3,
      "outputs": [
        {
          "output_type": "stream",
          "name": "stdout",
          "text": [
            "takayna-tarkine is a valid password! Congrats\n",
            "__- is a valid password! Congrats\n",
            "I-wish-i-was-a-cuttlefish is a valid password! Congrats\n"
          ]
        }
      ]
    },
    {
      "cell_type": "markdown",
      "source": [
        "###Problem 3: Multiples"
      ],
      "metadata": {
        "id": "DkB-JG2I0k4q"
      }
    },
    {
      "cell_type": "code",
      "source": [
        "# find the sum of all the multiples of 3 or 5 smaller than 1000\n",
        "\n",
        "#Create the dataset \n",
        "x=[n for n in range(1000) if n % 3 == 0 or n % 5 == 0] \n",
        "\n",
        "#sum the data\n",
        "print(sum(x))\n",
        "\n",
        "#or:\n",
        "y=set(list(range(0, 1000, 3)) + list(range(0, 1000, 5)))\n",
        "print(sum(y))\n",
        "\n",
        "#both the same answer so thats good news "
      ],
      "metadata": {
        "colab": {
          "base_uri": "https://localhost:8080/"
        },
        "id": "hHWb9GBg0pJz",
        "outputId": "ab20b1ef-502f-4c0d-c14f-392e9cac9ed0"
      },
      "execution_count": 4,
      "outputs": [
        {
          "output_type": "stream",
          "name": "stdout",
          "text": [
            "233168\n",
            "233168\n"
          ]
        }
      ]
    },
    {
      "cell_type": "markdown",
      "source": [
        "###Problem 4: Fibonacchi "
      ],
      "metadata": {
        "id": "n5KeWu5A01zY"
      }
    },
    {
      "cell_type": "code",
      "source": [
        "#lets do the intial conditions first: sum of numbers < 10\n",
        "x, y = 1, 1 #initial points\n",
        "fibonacchi_sum = 0\n",
        "while x <= 10: #while x is less than a certain number (eg 10), run the following\n",
        "    fibonacchi_sum += x \n",
        "    x, y = y, x+y  #fibonacchi series\n",
        "print(fibonacchi_sum)"
      ],
      "metadata": {
        "colab": {
          "base_uri": "https://localhost:8080/"
        },
        "id": "xiHWNJF90rUC",
        "outputId": "416a7cd6-662f-44c4-bc3b-79f79d3497de"
      },
      "execution_count": 5,
      "outputs": [
        {
          "output_type": "stream",
          "name": "stdout",
          "text": [
            "20\n"
          ]
        }
      ]
    },
    {
      "cell_type": "code",
      "source": [
        "#seems to work, lets now do for: sum of numbers <1000\n",
        " \n",
        "x, y = 1, 1 #initial points\n",
        "fibonacchi_sum_1000 = 0\n",
        "while x <= 1000: #while a is less than a certain number\n",
        "    fibonacchi_sum_1000 += x\n",
        "    x, y = y, x+y  #fibonacchi series\n",
        "print(fibonacchi_sum_1000)"
      ],
      "metadata": {
        "colab": {
          "base_uri": "https://localhost:8080/"
        },
        "id": "xJKT8ZRi09ef",
        "outputId": "6daabbd9-7eab-4f74-be02-d07571013f72"
      },
      "execution_count": 6,
      "outputs": [
        {
          "output_type": "stream",
          "name": "stdout",
          "text": [
            "2583\n"
          ]
        }
      ]
    },
    {
      "cell_type": "code",
      "source": [
        "#That is all the problems done I believe, nice. \n",
        "print('Scripting Assessment complete')"
      ],
      "metadata": {
        "colab": {
          "base_uri": "https://localhost:8080/"
        },
        "id": "rM2gYHAR0_5J",
        "outputId": "0711c312-ad3e-4d77-e012-d76a752bad1d"
      },
      "execution_count": 7,
      "outputs": [
        {
          "output_type": "stream",
          "name": "stdout",
          "text": [
            "Scripting Assessment complete\n"
          ]
        }
      ]
    }
  ]
}